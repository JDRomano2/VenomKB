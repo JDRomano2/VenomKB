{
 "cells": [
  {
   "cell_type": "code",
   "execution_count": 3,
   "metadata": {
    "collapsed": true
   },
   "outputs": [],
   "source": [
    "from __future__ import print_function, absolute_import, unicode_literals\n",
    "\n",
    "from prov.model import ProvDocument, Namespace, Literal, PROV, Identifier\n",
    "import datetime"
   ]
  },
  {
   "cell_type": "code",
   "execution_count": 7,
   "metadata": {},
   "outputs": [
    {
     "data": {
      "text/plain": [
       "<ProvDerivation: (vkb:protein, tp:protein)>"
      ]
     },
     "execution_count": 7,
     "metadata": {},
     "output_type": "execute_result"
    }
   ],
   "source": [
    "g = ProvDocument()\n",
    "\n",
    "# namespaces\n",
    "g.add_namespace('w3', 'http://www.w3.org/')\n",
    "g.add_namespace('tr', 'http://www.w3.org/TR/2018/')\n",
    "g.add_namespace('prov', 'http://www.w3.org/ns/prov#')\n",
    "g.add_namespace('xsd', 'http://www.w3.org/2001/XMLSchema#')\n",
    "g.add_namespace('foaf', \"http://xmlns.com/foaf/0.1/\")\n",
    "\n",
    "g.add_namespace('vkb', 'http://www.venomkb.org/')\n",
    "g.add_namespace('tp', 'http://www.uniprot.org/program/Toxins')\n",
    "\n",
    "\n",
    "# entitites\n",
    "g.entity('vkb:protein')\n",
    "g.entity('vkb:species')\n",
    "g.entity('vkb:genome')\n",
    "g.entity('vkb:systemicEffect')\n",
    "g.entity('vkb:molecularEffect')\n",
    "g.entity('vkb:expressionProfile')\n",
    "\n",
    "g.entity('tp:protein')\n",
    "\n",
    "\n",
    "# agents\n",
    "g.agent('vkb:jdr', {\n",
    "    'prov:type': PROV[\"Person\"],\n",
    "    'foaf:givenName': \"Joseph\",\n",
    "    'foaf:familyName': \"Romano\",\n",
    "    'foaf:mbox': \"<mailto:jdr2160@cumc.columbia.edu>\",\n",
    "    'foaf:geekcode': \"GCS/IT/LS/MU/S d-(+)>++ s-:+>- a- C++$ UBCX+++(++)$ P- L+ E++$>+++ !W++ !N !o K+ w !O !M !V PS+ PE !Y !PGP t++ !5 X+ !R tv+ b++ DI D+ G+ e+++$>++++ h--- r++ y?\"\n",
    "})\n",
    "g.agent('vkb:vtn', {\n",
    "    'prov:type': PROV[\"Person\"],\n",
    "    'foaf:givenName': \"Victor\",\n",
    "    'foaf:familyName': \"Nwankwo\"\n",
    "})\n",
    "\n",
    "\n",
    "# activities corresponding to single python scripts\n",
    "g.activity('vkb:add_go_data')\n",
    "g.activity('vkb:add_literature_refs')\n",
    "g.activity('vkb:add_predications_to_mongo')\n",
    "g.activity('vkb:add_taxonomic_data')\n",
    "g.activity('vkb:add_uniprot_descriptions')\n",
    "g.activity('vkb:build_mongo_index')\n",
    "g.activity('vkb:deploy_protein_image_urls')\n",
    "g.activity('vkb:deploy_species_image_urls')\n",
    "g.activity('vkb:fetch_images_wikidata')\n",
    "g.activity('vkb:generate_annotation_scores')\n",
    "g.activity('vkb:get_protein_image_urls')\n",
    "g.activity('vkb:infer_effects_go')\n",
    "g.activity('vkb:infer_effects_mesh')\n",
    "g.activity('vkb:make_uniprot_to_vkb_map')\n",
    "g.activity('vkb:replace_protein_refs_in_venoms')\n",
    "g.activity('vkb:restructure_db_refs')\n",
    "g.activity('vkb:integrate_venomkb_v1')\n",
    "\n",
    "\n",
    "# derivation\n",
    "g.wasDerivedFrom('vkb:protein', 'tp:protein')"
   ]
  },
  {
   "cell_type": "code",
   "execution_count": 19,
   "metadata": {},
   "outputs": [
    {
     "data": {
      "text/plain": [
       "u'document\\n  prefix foaf <http://xmlns.com/foaf/0.1/>\\n  prefix tr <http://www.w3.org/TR/2018/>\\n  prefix vkb <http://www.venomkb.org/>\\n  prefix w3 <http://www.w3.org/>\\n  prefix tp <http://www.uniprot.org/program/Toxins>\\n  \\n  entity(vkb:protein)\\n  entity(vkb:species)\\n  entity(vkb:genome)\\n  entity(vkb:systemicEffect)\\n  entity(vkb:molecularEffect)\\n  entity(vkb:expressionProfile)\\n  entity(tp:protein)\\n  agent(vkb:jdr, [foaf:givenName=\"Joseph\", prov:type=\\'prov:Person\\', foaf:geekcode=\"GCS/IT/LS/MU/S d-(+)>++ s-:+>- a- C++$ UBCX+++(++)$ P- L+ E++$>+++ !W++ !N !o K+ w !O !M !V PS+ PE !Y !PGP t++ !5 X+ !R tv+ b++ DI D+ G+ e+++$>++++ h--- r++ y?\", foaf:familyName=\"Romano\", foaf:mbox=\"<mailto:jdr2160@cumc.columbia.edu>\"])\\n  agent(vkb:vtn, [foaf:givenName=\"Victor\", prov:type=\\'prov:Person\\', foaf:familyName=\"Nwankwo\"])\\n  activity(vkb:add_go_data, -, -)\\n  activity(vkb:add_literature_refs, -, -)\\n  activity(vkb:add_predications_to_mongo, -, -)\\n  activity(vkb:add_taxonomic_data, -, -)\\n  activity(vkb:add_uniprot_descriptions, -, -)\\n  activity(vkb:build_mongo_index, -, -)\\n  activity(vkb:deploy_protein_image_urls, -, -)\\n  activity(vkb:deploy_species_image_urls, -, -)\\n  activity(vkb:fetch_images_wikidata, -, -)\\n  activity(vkb:generate_annotation_scores, -, -)\\n  activity(vkb:get_protein_image_urls, -, -)\\n  activity(vkb:infer_effects_go, -, -)\\n  activity(vkb:infer_effects_mesh, -, -)\\n  activity(vkb:make_uniprot_to_vkb_map, -, -)\\n  activity(vkb:replace_protein_refs_in_venoms, -, -)\\n  activity(vkb:restructure_db_refs, -, -)\\n  activity(vkb:integrate_venomkb_v1, -, -)\\n  wasDerivedFrom(vkb:protein, tp:protein, -, -, -)\\nendDocument'"
      ]
     },
     "execution_count": 19,
     "metadata": {},
     "output_type": "execute_result"
    }
   ],
   "source": [
    "g.get_provn()"
   ]
  },
  {
   "cell_type": "code",
   "execution_count": 16,
   "metadata": {},
   "outputs": [
    {
     "name": "stdout",
     "output_type": "stream",
     "text": [
      "catalog-v001.xml    sample.owl          venomkb_prov-o.owl\r\n"
     ]
    }
   ],
   "source": [
    "with open('../../index/assets/prov/venomkb.pn', 'w') as fp:\n",
    "    fp.write(g.get_provn())"
   ]
  },
  {
   "cell_type": "code",
   "execution_count": null,
   "metadata": {
    "collapsed": true
   },
   "outputs": [],
   "source": []
  }
 ],
 "metadata": {
  "kernelspec": {
   "display_name": "Python 2",
   "language": "python",
   "name": "python2"
  },
  "language_info": {
   "codemirror_mode": {
    "name": "ipython",
    "version": 2
   },
   "file_extension": ".py",
   "mimetype": "text/x-python",
   "name": "python",
   "nbconvert_exporter": "python",
   "pygments_lexer": "ipython2",
   "version": "2.7.14"
  }
 },
 "nbformat": 4,
 "nbformat_minor": 2
}
